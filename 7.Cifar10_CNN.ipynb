{
  "nbformat": 4,
  "nbformat_minor": 0,
  "metadata": {
    "colab": {
      "name": "Untitled3.ipynb",
      "provenance": []
    },
    "kernelspec": {
      "name": "python3",
      "display_name": "Python 3"
    }
  },
  "cells": [
    {
      "cell_type": "code",
      "metadata": {
        "id": "SROSXa_P5QV6",
        "colab_type": "code",
        "colab": {
          "base_uri": "https://localhost:8080/",
          "height": 1000
        },
        "outputId": "a818f689-8532-4763-8477-cb9eadb8b5bd"
      },
      "source": [
        "from keras.datasets import cifar10\n",
        "\n",
        "(x_train, y_train_), (x_test, y_test_) = cifar10.load_data()\n",
        "\n",
        "x_train = x_train.astype('float32') / 255\n",
        "x_test = x_test.astype('float32') / 255\n",
        "\n",
        "from keras.utils import to_categorical\n",
        "y_train = to_categorical(y_train_)\n",
        "y_test = to_categorical(y_test_)\n",
        "\n",
        "\"\"\"## Model Definition\"\"\"\n",
        "\n",
        "from keras.models import Sequential\n",
        "model = Sequential()\n",
        "\n",
        "from keras.layers import Conv2D, MaxPool2D, Flatten, Dense\n",
        "\n",
        "model.add(Conv2D(filters=32, \n",
        "                kernel_size=(3, 3),\n",
        "                activation='relu',\n",
        "                input_shape=(32, 32, 3)))\n",
        "\n",
        "model.add(MaxPool2D())\n",
        "\n",
        "model.add(Conv2D(filters=64,\n",
        "                kernel_size=(3, 3),\n",
        "                activation='relu'))\n",
        "model.add(MaxPool2D())\n",
        "\n",
        "model.add(Flatten())\n",
        "model.add(Dense(10, activation='softmax'))\n",
        "\n",
        "model.compile(optimizer='adam',\n",
        "             loss='categorical_crossentropy',\n",
        "             metrics=['accuracy'])\n",
        "\n",
        "print(model.summary())\n",
        "\n",
        "\"\"\"## Fitting\"\"\"\n",
        "\n",
        "history = model.fit(x_train, y_train, batch_size=50, epochs=15, verbose=1, validation_data=(x_test, y_test))\n",
        "\n",
        "import matplotlib.pyplot as plt\n",
        "\n",
        "history_dict = history.history\n",
        "loss_values = history_dict['loss']\n",
        "val_loss_values = history_dict['val_loss']\n",
        "\n",
        "epochs = range(1, len(history_dict['accuracy']) + 1)\n",
        "\n",
        "plt.plot(epochs, loss_values, 'bo', label='Training loss')\n",
        "plt.plot(epochs, val_loss_values, 'b', label='Validation loss')\n",
        "plt.title('Training and validation loss')\n",
        "plt.xlabel('Epochs')\n",
        "plt.ylabel('Loss')\n",
        "plt.legend()\n",
        "\n",
        "plt.show()"
      ],
      "execution_count": 2,
      "outputs": [
        {
          "output_type": "stream",
          "text": [
            "Model: \"sequential_2\"\n",
            "_________________________________________________________________\n",
            "Layer (type)                 Output Shape              Param #   \n",
            "=================================================================\n",
            "conv2d_3 (Conv2D)            (None, 30, 30, 32)        896       \n",
            "_________________________________________________________________\n",
            "max_pooling2d_3 (MaxPooling2 (None, 15, 15, 32)        0         \n",
            "_________________________________________________________________\n",
            "conv2d_4 (Conv2D)            (None, 13, 13, 64)        18496     \n",
            "_________________________________________________________________\n",
            "max_pooling2d_4 (MaxPooling2 (None, 6, 6, 64)          0         \n",
            "_________________________________________________________________\n",
            "flatten_2 (Flatten)          (None, 2304)              0         \n",
            "_________________________________________________________________\n",
            "dense_2 (Dense)              (None, 10)                23050     \n",
            "=================================================================\n",
            "Total params: 42,442\n",
            "Trainable params: 42,442\n",
            "Non-trainable params: 0\n",
            "_________________________________________________________________\n",
            "None\n",
            "Train on 50000 samples, validate on 10000 samples\n",
            "Epoch 1/15\n",
            "50000/50000 [==============================] - 59s 1ms/step - loss: 1.5113 - accuracy: 0.4614 - val_loss: 1.2558 - val_accuracy: 0.5625\n",
            "Epoch 2/15\n",
            "50000/50000 [==============================] - 59s 1ms/step - loss: 1.1844 - accuracy: 0.5863 - val_loss: 1.1354 - val_accuracy: 0.6091\n",
            "Epoch 3/15\n",
            "50000/50000 [==============================] - 58s 1ms/step - loss: 1.0541 - accuracy: 0.6357 - val_loss: 1.0504 - val_accuracy: 0.6339\n",
            "Epoch 4/15\n",
            "50000/50000 [==============================] - 58s 1ms/step - loss: 0.9798 - accuracy: 0.6647 - val_loss: 1.0151 - val_accuracy: 0.6472\n",
            "Epoch 5/15\n",
            "50000/50000 [==============================] - 58s 1ms/step - loss: 0.9239 - accuracy: 0.6829 - val_loss: 1.0014 - val_accuracy: 0.6531\n",
            "Epoch 6/15\n",
            "50000/50000 [==============================] - 58s 1ms/step - loss: 0.8778 - accuracy: 0.6999 - val_loss: 0.9399 - val_accuracy: 0.6811\n",
            "Epoch 7/15\n",
            "50000/50000 [==============================] - 58s 1ms/step - loss: 0.8452 - accuracy: 0.7121 - val_loss: 0.9660 - val_accuracy: 0.6670\n",
            "Epoch 8/15\n",
            "50000/50000 [==============================] - 61s 1ms/step - loss: 0.8129 - accuracy: 0.7216 - val_loss: 0.9727 - val_accuracy: 0.6714\n",
            "Epoch 9/15\n",
            "50000/50000 [==============================] - 57s 1ms/step - loss: 0.7850 - accuracy: 0.7311 - val_loss: 0.9506 - val_accuracy: 0.6780\n",
            "Epoch 10/15\n",
            "50000/50000 [==============================] - 57s 1ms/step - loss: 0.7594 - accuracy: 0.7408 - val_loss: 0.9352 - val_accuracy: 0.6817\n",
            "Epoch 11/15\n",
            "50000/50000 [==============================] - 57s 1ms/step - loss: 0.7375 - accuracy: 0.7468 - val_loss: 0.9210 - val_accuracy: 0.6870\n",
            "Epoch 12/15\n",
            "50000/50000 [==============================] - 57s 1ms/step - loss: 0.7129 - accuracy: 0.7552 - val_loss: 0.9295 - val_accuracy: 0.6855\n",
            "Epoch 13/15\n",
            "50000/50000 [==============================] - 57s 1ms/step - loss: 0.6977 - accuracy: 0.7605 - val_loss: 0.9295 - val_accuracy: 0.6942\n",
            "Epoch 14/15\n",
            "50000/50000 [==============================] - 57s 1ms/step - loss: 0.6794 - accuracy: 0.7657 - val_loss: 0.9386 - val_accuracy: 0.6915\n",
            "Epoch 15/15\n",
            "50000/50000 [==============================] - 57s 1ms/step - loss: 0.6674 - accuracy: 0.7703 - val_loss: 0.9168 - val_accuracy: 0.6973\n"
          ],
          "name": "stdout"
        },
        {
          "output_type": "display_data",
          "data": {
            "image/png": "[encoded data removed]",
            "text/plain": [
              "<Figure size 432x288 with 1 Axes>"
            ]
          },
          "metadata": {
            "tags": [],
            "needs_background": "light"
          }
        }
      ]
    }
  ]
}