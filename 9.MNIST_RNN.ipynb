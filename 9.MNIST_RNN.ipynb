{
  "nbformat": 4,
  "nbformat_minor": 0,
  "metadata": {
    "colab": {
      "name": "Untitled3.ipynb",
      "provenance": []
    },
    "kernelspec": {
      "name": "python3",
      "display_name": "Python 3"
    }
  },
  "cells": [
    {
      "cell_type": "code",
      "metadata": {
        "id": "SROSXa_P5QV6",
        "colab_type": "code",
        "colab": {
          "base_uri": "https://localhost:8080/",
          "height": 935
        },
        "outputId": "4c3e6327-add6-44bc-af40-0a9a8831493c"
      },
      "source": [
        "from keras.datasets import mnist\n",
        "from keras.layers import Dense, LSTM\n",
        "from keras.utils import to_categorical\n",
        "from keras.models import Sequential\n",
        "\n",
        "#parameters for LSTM\n",
        "nb_lstm_outputs = 30  \n",
        "nb_time_steps = 28  \n",
        "nb_input_vector = 28 \n",
        "\n",
        "#data preprocessing: tofloat32, normalization, one_hot encoding\n",
        "(x_train, y_train), (x_test, y_test) = mnist.load_data()\n",
        "x_train = x_train.astype('float32')\n",
        "x_test = x_test.astype('float32')\n",
        "x_train /= 255\n",
        "x_test /= 255\n",
        " \n",
        "y_train = to_categorical(y_train, num_classes=10)\n",
        "y_test = to_categorical(y_test, num_classes=10)\n",
        "\n",
        "#build model\n",
        "model = Sequential()\n",
        "model.add(LSTM(units=nb_lstm_outputs, input_shape=(nb_time_steps, nb_input_vector)))\n",
        "model.add(Dense(10, activation='softmax'))\n",
        "\n",
        "#compile:loss, optimizer, metrics\n",
        "model.compile(loss='categorical_crossentropy', optimizer='adam', metrics=['accuracy'])\n",
        "#train: epcoch, batch_size\n",
        "model.fit(x_train, y_train, epochs=20, batch_size=128, verbose=1)\n",
        "\n",
        "model.summary()\n",
        "\n",
        "score = model.evaluate(x_test, y_test,batch_size=128, verbose=1)\n",
        "print(score)"
      ],
      "execution_count": 5,
      "outputs": [
        {
          "output_type": "stream",
          "text": [
            "Epoch 1/20\n",
            "60000/60000 [==============================] - 10s 159us/step - loss: 0.9533 - accuracy: 0.7012\n",
            "Epoch 2/20\n",
            "60000/60000 [==============================] - 10s 162us/step - loss: 0.2937 - accuracy: 0.9151\n",
            "Epoch 3/20\n",
            "60000/60000 [==============================] - 10s 158us/step - loss: 0.2069 - accuracy: 0.9393\n",
            "Epoch 4/20\n",
            "60000/60000 [==============================] - 9s 157us/step - loss: 0.1641 - accuracy: 0.9523\n",
            "Epoch 5/20\n",
            "60000/60000 [==============================] - 10s 159us/step - loss: 0.1419 - accuracy: 0.9582\n",
            "Epoch 6/20\n",
            "60000/60000 [==============================] - 10s 161us/step - loss: 0.1261 - accuracy: 0.9629\n",
            "Epoch 7/20\n",
            "60000/60000 [==============================] - 10s 163us/step - loss: 0.1155 - accuracy: 0.9660\n",
            "Epoch 8/20\n",
            "60000/60000 [==============================] - 10s 164us/step - loss: 0.1050 - accuracy: 0.9684\n",
            "Epoch 9/20\n",
            "60000/60000 [==============================] - 10s 161us/step - loss: 0.0985 - accuracy: 0.9709\n",
            "Epoch 10/20\n",
            "60000/60000 [==============================] - 10s 166us/step - loss: 0.0922 - accuracy: 0.9722\n",
            "Epoch 11/20\n",
            "60000/60000 [==============================] - 10s 161us/step - loss: 0.0858 - accuracy: 0.9747\n",
            "Epoch 12/20\n",
            "60000/60000 [==============================] - 10s 159us/step - loss: 0.0815 - accuracy: 0.9755\n",
            "Epoch 13/20\n",
            "60000/60000 [==============================] - 10s 162us/step - loss: 0.0770 - accuracy: 0.9773\n",
            "Epoch 14/20\n",
            "60000/60000 [==============================] - 10s 160us/step - loss: 0.0726 - accuracy: 0.9784\n",
            "Epoch 15/20\n",
            "60000/60000 [==============================] - 10s 159us/step - loss: 0.0693 - accuracy: 0.9786\n",
            "Epoch 16/20\n",
            "60000/60000 [==============================] - 10s 160us/step - loss: 0.0684 - accuracy: 0.9797\n",
            "Epoch 17/20\n",
            "60000/60000 [==============================] - 10s 163us/step - loss: 0.0627 - accuracy: 0.9816\n",
            "Epoch 18/20\n",
            "60000/60000 [==============================] - 10s 163us/step - loss: 0.0610 - accuracy: 0.9818\n",
            "Epoch 19/20\n",
            "60000/60000 [==============================] - 9s 157us/step - loss: 0.0609 - accuracy: 0.9822\n",
            "Epoch 20/20\n",
            "60000/60000 [==============================] - 9s 157us/step - loss: 0.0581 - accuracy: 0.9824\n",
            "Model: \"sequential_4\"\n",
            "_________________________________________________________________\n",
            "Layer (type)                 Output Shape              Param #   \n",
            "=================================================================\n",
            "lstm_1 (LSTM)                (None, 30)                7080      \n",
            "_________________________________________________________________\n",
            "dense_5 (Dense)              (None, 10)                310       \n",
            "=================================================================\n",
            "Total params: 7,390\n",
            "Trainable params: 7,390\n",
            "Non-trainable params: 0\n",
            "_________________________________________________________________\n",
            "10000/10000 [==============================] - 0s 49us/step\n",
            "[0.07421680388152599, 0.9768000245094299]\n"
          ],
          "name": "stdout"
        }
      ]
    }
  ]
}